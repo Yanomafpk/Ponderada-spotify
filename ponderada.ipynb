{
 "cells": [
  {
   "cell_type": "markdown",
   "metadata": {},
   "source": [
    "### Ponderada Spotify\n",
    "\n",
    "Primeiramente para a realização da ponderada, é preciso importar todas as bibiliotecas que irão aixiliar neste projeto. Sendo elas ferramentas fundamentais na manipulação, análise e visualização de grandes volumes de dados de maneira eficiente. OFerecendo funções e estruturas otimizadas para realizar tarefas comuns de processamento e exploração de dados. "
   ]
  },
  {
   "cell_type": "code",
   "execution_count": 378,
   "metadata": {},
   "outputs": [],
   "source": [
    "import pandas as pd \n",
    "import matplotlib.pyplot as plt \n",
    "import seaborn as sns \n",
    "import numpy as np \n",
    "from sklearn.preprocessing import OneHotEncoder"
   ]
  },
  {
   "cell_type": "markdown",
   "metadata": {},
   "source": [
    "#### Limpeza e Tratamento de Valores Nulos\n",
    "\n",
    "A limpeza e o tratamento de valores nulos são fundamentais para a criação do modelo preditivo. Isso é evidente quando possuimos valores nulos e outiliers, de modo que quando estivermos treinando nosso modelo, ele seja influenciado por valores exorbitantes e que foge do habitual. Por exemplo se usarmos o kmeans do qual agrupa objetos semelhantes e ao definir os centroides pode haver um determinado outilier que sozinho gere um centroide por se destiguir dos demais, impactando assim negativamente o modelo do qual estamos criando. \n",
    "\n",
    "Já quando se trata de valores nulos, a maioria dos modelos não conseguem lidar com estes, podendo resultar em erros de execução ou em problemas de convergência durante o treinamento do modelo. \n",
    "\n",
    "Sendo assim, iremos fazer agora a limpeza dos nossos dados, além de também importa-los para que os dados estejam disponíveis para o treinamento do modelo preditivo. "
   ]
  },
  {
   "cell_type": "code",
   "execution_count": 379,
   "metadata": {},
   "outputs": [],
   "source": [
    "df_train = pd.read_csv('train.csv')\n",
    "df_test = pd.read_csv('test.csv')\n",
    "df_submission = pd.read_csv('sample_submission.csv')\n"
   ]
  },
  {
   "cell_type": "markdown",
   "metadata": {},
   "source": [
    "A fim de identifcar o formato dos dados e visualizar a tabela, eu utilizei a função head, esta que me mostra as cinco primeiras linhas da tabela. Nesta não consegui observar nenhum erro, principalmente por representar uma amostra muito pequena dos dados."
   ]
  },
  {
   "cell_type": "code",
   "execution_count": 380,
   "metadata": {},
   "outputs": [
    {
     "data": {
      "text/plain": [
       "Index(['track_unique_id', 'track_id', 'artists', 'album_name', 'track_name',\n",
       "       'duration_ms', 'explicit', 'danceability', 'energy', 'key', 'loudness',\n",
       "       'mode', 'speechiness', 'acousticness', 'instrumentalness', 'liveness',\n",
       "       'valence', 'tempo', 'time_signature', 'track_genre',\n",
       "       'popularity_target'],\n",
       "      dtype='object')"
      ]
     },
     "execution_count": 380,
     "metadata": {},
     "output_type": "execute_result"
    }
   ],
   "source": [
    "\n",
    "df_train.columns\n"
   ]
  },
  {
   "cell_type": "markdown",
   "metadata": {},
   "source": [
    "Já para ver tanto os tipos das váriaveis da minha tabela, tanto o número de valores nulos, utilizei a função \"Info\", olhando os dados anteriormente e comparando com os tipos, vi que todos estavam corretos e que batiam com que estavam sendo exibidos na função info. Mas um ponto que me deixou em alerta foi a presença de um valor nulo nas colunas artists, album_name e track_name, evidencias essas que foram percebidas pelo número de linhas que é 34200 que não bate com com os 34199 dessas três colunas."
   ]
  },
  {
   "cell_type": "code",
   "execution_count": 381,
   "metadata": {},
   "outputs": [
    {
     "name": "stdout",
     "output_type": "stream",
     "text": [
      "<class 'pandas.core.frame.DataFrame'>\n",
      "RangeIndex: 79800 entries, 0 to 79799\n",
      "Data columns (total 21 columns):\n",
      " #   Column             Non-Null Count  Dtype  \n",
      "---  ------             --------------  -----  \n",
      " 0   track_unique_id    79800 non-null  int64  \n",
      " 1   track_id           79800 non-null  object \n",
      " 2   artists            79800 non-null  object \n",
      " 3   album_name         79800 non-null  object \n",
      " 4   track_name         79800 non-null  object \n",
      " 5   duration_ms        79800 non-null  int64  \n",
      " 6   explicit           79800 non-null  bool   \n",
      " 7   danceability       79800 non-null  float64\n",
      " 8   energy             79800 non-null  float64\n",
      " 9   key                79800 non-null  int64  \n",
      " 10  loudness           79800 non-null  float64\n",
      " 11  mode               79800 non-null  int64  \n",
      " 12  speechiness        79800 non-null  float64\n",
      " 13  acousticness       79800 non-null  float64\n",
      " 14  instrumentalness   79800 non-null  float64\n",
      " 15  liveness           79800 non-null  float64\n",
      " 16  valence            79800 non-null  float64\n",
      " 17  tempo              79800 non-null  float64\n",
      " 18  time_signature     79800 non-null  int64  \n",
      " 19  track_genre        79800 non-null  object \n",
      " 20  popularity_target  79800 non-null  int64  \n",
      "dtypes: bool(1), float64(9), int64(6), object(5)\n",
      "memory usage: 12.3+ MB\n"
     ]
    }
   ],
   "source": [
    "df_train.info() "
   ]
  },
  {
   "cell_type": "markdown",
   "metadata": {},
   "source": [
    "Sendo assim, já pedi para printar a linha desses valores e descobri que se tratava de uma linha, da qual não exclui pois se trata de uma linha com informações que não vão impactar meu modelo, pois se trata de nomes o que não irei utilizar para testar meu modelo."
   ]
  },
  {
   "cell_type": "code",
   "execution_count": 382,
   "metadata": {},
   "outputs": [
    {
     "name": "stdout",
     "output_type": "stream",
     "text": [
      "Empty DataFrame\n",
      "Columns: [track_unique_id, track_id, artists, album_name, track_name, duration_ms, explicit, danceability, energy, key, loudness, mode, speechiness, acousticness, instrumentalness, liveness, valence, tempo, time_signature, track_genre, popularity_target]\n",
      "Index: []\n",
      "\n",
      "[0 rows x 21 columns]\n"
     ]
    }
   ],
   "source": [
    "linhas_com_nulos = df_train[df_train.isnull().any(axis=1)]\n",
    "print(linhas_com_nulos)"
   ]
  },
  {
   "cell_type": "markdown",
   "metadata": {},
   "source": [
    "Agora vou utilizar a fução describe para ver se possuem alguns valores que não correspondem com os valores determinados no enunciado do projeto, pois estes podem prejudicar meu modelo com informações que não correspondem com a realidade. "
   ]
  },
  {
   "cell_type": "code",
   "execution_count": 383,
   "metadata": {},
   "outputs": [
    {
     "data": {
      "text/html": [
       "<div>\n",
       "<style scoped>\n",
       "    .dataframe tbody tr th:only-of-type {\n",
       "        vertical-align: middle;\n",
       "    }\n",
       "\n",
       "    .dataframe tbody tr th {\n",
       "        vertical-align: top;\n",
       "    }\n",
       "\n",
       "    .dataframe thead th {\n",
       "        text-align: right;\n",
       "    }\n",
       "</style>\n",
       "<table border=\"1\" class=\"dataframe\">\n",
       "  <thead>\n",
       "    <tr style=\"text-align: right;\">\n",
       "      <th></th>\n",
       "      <th>track_unique_id</th>\n",
       "      <th>duration_ms</th>\n",
       "      <th>danceability</th>\n",
       "      <th>energy</th>\n",
       "      <th>key</th>\n",
       "      <th>loudness</th>\n",
       "      <th>mode</th>\n",
       "      <th>speechiness</th>\n",
       "      <th>acousticness</th>\n",
       "      <th>instrumentalness</th>\n",
       "      <th>liveness</th>\n",
       "      <th>valence</th>\n",
       "      <th>tempo</th>\n",
       "      <th>time_signature</th>\n",
       "      <th>popularity_target</th>\n",
       "    </tr>\n",
       "  </thead>\n",
       "  <tbody>\n",
       "    <tr>\n",
       "      <th>count</th>\n",
       "      <td>79800.000000</td>\n",
       "      <td>7.980000e+04</td>\n",
       "      <td>79800.000000</td>\n",
       "      <td>79800.000000</td>\n",
       "      <td>79800.000000</td>\n",
       "      <td>79800.000000</td>\n",
       "      <td>79800.000000</td>\n",
       "      <td>79800.000000</td>\n",
       "      <td>79800.000000</td>\n",
       "      <td>79800.000000</td>\n",
       "      <td>79800.000000</td>\n",
       "      <td>79800.000000</td>\n",
       "      <td>79800.000000</td>\n",
       "      <td>79800.000000</td>\n",
       "      <td>79800.000000</td>\n",
       "    </tr>\n",
       "    <tr>\n",
       "      <th>mean</th>\n",
       "      <td>57140.494048</td>\n",
       "      <td>2.279022e+05</td>\n",
       "      <td>0.567318</td>\n",
       "      <td>0.641529</td>\n",
       "      <td>5.307043</td>\n",
       "      <td>-8.263741</td>\n",
       "      <td>0.637732</td>\n",
       "      <td>0.084750</td>\n",
       "      <td>0.314979</td>\n",
       "      <td>0.157319</td>\n",
       "      <td>0.213313</td>\n",
       "      <td>0.474267</td>\n",
       "      <td>122.076559</td>\n",
       "      <td>3.902556</td>\n",
       "      <td>0.487845</td>\n",
       "    </tr>\n",
       "    <tr>\n",
       "      <th>std</th>\n",
       "      <td>32993.196225</td>\n",
       "      <td>1.050599e+05</td>\n",
       "      <td>0.173110</td>\n",
       "      <td>0.251441</td>\n",
       "      <td>3.562186</td>\n",
       "      <td>5.035504</td>\n",
       "      <td>0.480659</td>\n",
       "      <td>0.105657</td>\n",
       "      <td>0.332512</td>\n",
       "      <td>0.310792</td>\n",
       "      <td>0.190075</td>\n",
       "      <td>0.259010</td>\n",
       "      <td>29.941937</td>\n",
       "      <td>0.434284</td>\n",
       "      <td>0.499855</td>\n",
       "    </tr>\n",
       "    <tr>\n",
       "      <th>min</th>\n",
       "      <td>0.000000</td>\n",
       "      <td>1.338600e+04</td>\n",
       "      <td>0.000000</td>\n",
       "      <td>0.000019</td>\n",
       "      <td>0.000000</td>\n",
       "      <td>-49.307000</td>\n",
       "      <td>0.000000</td>\n",
       "      <td>0.000000</td>\n",
       "      <td>0.000000</td>\n",
       "      <td>0.000000</td>\n",
       "      <td>0.000000</td>\n",
       "      <td>0.000000</td>\n",
       "      <td>0.000000</td>\n",
       "      <td>0.000000</td>\n",
       "      <td>0.000000</td>\n",
       "    </tr>\n",
       "    <tr>\n",
       "      <th>25%</th>\n",
       "      <td>28450.500000</td>\n",
       "      <td>1.744360e+05</td>\n",
       "      <td>0.456000</td>\n",
       "      <td>0.472000</td>\n",
       "      <td>2.000000</td>\n",
       "      <td>-10.006000</td>\n",
       "      <td>0.000000</td>\n",
       "      <td>0.035900</td>\n",
       "      <td>0.017000</td>\n",
       "      <td>0.000000</td>\n",
       "      <td>0.097900</td>\n",
       "      <td>0.261000</td>\n",
       "      <td>99.081250</td>\n",
       "      <td>4.000000</td>\n",
       "      <td>0.000000</td>\n",
       "    </tr>\n",
       "    <tr>\n",
       "      <th>50%</th>\n",
       "      <td>57234.000000</td>\n",
       "      <td>2.128130e+05</td>\n",
       "      <td>0.581000</td>\n",
       "      <td>0.685000</td>\n",
       "      <td>5.000000</td>\n",
       "      <td>-7.012000</td>\n",
       "      <td>1.000000</td>\n",
       "      <td>0.049000</td>\n",
       "      <td>0.169000</td>\n",
       "      <td>0.000041</td>\n",
       "      <td>0.132000</td>\n",
       "      <td>0.464000</td>\n",
       "      <td>122.009000</td>\n",
       "      <td>4.000000</td>\n",
       "      <td>0.000000</td>\n",
       "    </tr>\n",
       "    <tr>\n",
       "      <th>75%</th>\n",
       "      <td>85774.250000</td>\n",
       "      <td>2.614260e+05</td>\n",
       "      <td>0.695000</td>\n",
       "      <td>0.854000</td>\n",
       "      <td>8.000000</td>\n",
       "      <td>-5.000000</td>\n",
       "      <td>1.000000</td>\n",
       "      <td>0.084500</td>\n",
       "      <td>0.598000</td>\n",
       "      <td>0.050500</td>\n",
       "      <td>0.273000</td>\n",
       "      <td>0.684000</td>\n",
       "      <td>140.054000</td>\n",
       "      <td>4.000000</td>\n",
       "      <td>1.000000</td>\n",
       "    </tr>\n",
       "    <tr>\n",
       "      <th>max</th>\n",
       "      <td>113998.000000</td>\n",
       "      <td>5.237295e+06</td>\n",
       "      <td>0.985000</td>\n",
       "      <td>1.000000</td>\n",
       "      <td>11.000000</td>\n",
       "      <td>4.532000</td>\n",
       "      <td>1.000000</td>\n",
       "      <td>0.965000</td>\n",
       "      <td>0.996000</td>\n",
       "      <td>1.000000</td>\n",
       "      <td>1.000000</td>\n",
       "      <td>0.995000</td>\n",
       "      <td>222.605000</td>\n",
       "      <td>5.000000</td>\n",
       "      <td>1.000000</td>\n",
       "    </tr>\n",
       "  </tbody>\n",
       "</table>\n",
       "</div>"
      ],
      "text/plain": [
       "       track_unique_id   duration_ms  danceability        energy  \\\n",
       "count     79800.000000  7.980000e+04  79800.000000  79800.000000   \n",
       "mean      57140.494048  2.279022e+05      0.567318      0.641529   \n",
       "std       32993.196225  1.050599e+05      0.173110      0.251441   \n",
       "min           0.000000  1.338600e+04      0.000000      0.000019   \n",
       "25%       28450.500000  1.744360e+05      0.456000      0.472000   \n",
       "50%       57234.000000  2.128130e+05      0.581000      0.685000   \n",
       "75%       85774.250000  2.614260e+05      0.695000      0.854000   \n",
       "max      113998.000000  5.237295e+06      0.985000      1.000000   \n",
       "\n",
       "                key      loudness          mode   speechiness  acousticness  \\\n",
       "count  79800.000000  79800.000000  79800.000000  79800.000000  79800.000000   \n",
       "mean       5.307043     -8.263741      0.637732      0.084750      0.314979   \n",
       "std        3.562186      5.035504      0.480659      0.105657      0.332512   \n",
       "min        0.000000    -49.307000      0.000000      0.000000      0.000000   \n",
       "25%        2.000000    -10.006000      0.000000      0.035900      0.017000   \n",
       "50%        5.000000     -7.012000      1.000000      0.049000      0.169000   \n",
       "75%        8.000000     -5.000000      1.000000      0.084500      0.598000   \n",
       "max       11.000000      4.532000      1.000000      0.965000      0.996000   \n",
       "\n",
       "       instrumentalness      liveness       valence         tempo  \\\n",
       "count      79800.000000  79800.000000  79800.000000  79800.000000   \n",
       "mean           0.157319      0.213313      0.474267    122.076559   \n",
       "std            0.310792      0.190075      0.259010     29.941937   \n",
       "min            0.000000      0.000000      0.000000      0.000000   \n",
       "25%            0.000000      0.097900      0.261000     99.081250   \n",
       "50%            0.000041      0.132000      0.464000    122.009000   \n",
       "75%            0.050500      0.273000      0.684000    140.054000   \n",
       "max            1.000000      1.000000      0.995000    222.605000   \n",
       "\n",
       "       time_signature  popularity_target  \n",
       "count    79800.000000       79800.000000  \n",
       "mean         3.902556           0.487845  \n",
       "std          0.434284           0.499855  \n",
       "min          0.000000           0.000000  \n",
       "25%          4.000000           0.000000  \n",
       "50%          4.000000           0.000000  \n",
       "75%          4.000000           1.000000  \n",
       "max          5.000000           1.000000  "
      ]
     },
     "execution_count": 383,
     "metadata": {},
     "output_type": "execute_result"
    }
   ],
   "source": [
    "df_train.describe()"
   ]
  },
  {
   "cell_type": "markdown",
   "metadata": {},
   "source": [
    "Analisando esses dados percebi que havia algo de errado com o min do decribe, pois não tem como uma música ter duração 0 e time_signature menor que 4, sendo assim quis investigar melhor esses dados, fazendo uma lógica que exibisse os dados que possuissem valores da coluna time_signature menor que 3 e depois que possui duretion_ms = 0. No caso da duração, percebi que se tratava da mesma linha que já havia visto anteriomente, como essa linha pode ser problematica no futuro, uma vez que vou escolher as features e duração pode ser um fator, resolvi apagar essa, ainda mais que se trata só de uma."
   ]
  },
  {
   "cell_type": "code",
   "execution_count": 384,
   "metadata": {},
   "outputs": [
    {
     "name": "stdout",
     "output_type": "stream",
     "text": [
      "Empty DataFrame\n",
      "Columns: [track_unique_id, track_id, artists, album_name, track_name, duration_ms, explicit, danceability, energy, key, loudness, mode, speechiness, acousticness, instrumentalness, liveness, valence, tempo, time_signature, track_genre, popularity_target]\n",
      "Index: []\n",
      "\n",
      "[0 rows x 21 columns]\n"
     ]
    }
   ],
   "source": [
    "linhas_filtradas = df_train[ (df_train['duration_ms'] == 0)]\n",
    "print(linhas_filtradas)\n",
    "df_train = df_train.drop(linhas_filtradas.index)\n"
   ]
  },
  {
   "cell_type": "code",
   "execution_count": 385,
   "metadata": {},
   "outputs": [
    {
     "name": "stdout",
     "output_type": "stream",
     "text": [
      "       track_unique_id                track_id  \\\n",
      "437             101631  517zFFE01WR7zuNONic10C   \n",
      "529               9313  3ULRZkI6hVxtgowxnaf3uX   \n",
      "743              42304  0yyDKgH3Kj9CIMMATTo34N   \n",
      "964              98348  4cFEDjjpNsg4WkHSt6lc3c   \n",
      "973              69478  1mpa9ZlJ0XDdkq5aHw618E   \n",
      "...                ...                     ...   \n",
      "78741            81818  30v27OarRyhvCNNwlJYYU0   \n",
      "78908            56570  5DRUnUWYHCmuRNlYsWHHyp   \n",
      "78912            65545  1vKbVB1nOAVxUtqmNAstLw   \n",
      "79198            16364  220KFUVjdcPP0Nw0pUpyeU   \n",
      "79463            59040  2g37h9JTMtrhnfcNLA3OS6   \n",
      "\n",
      "                                         artists  \\\n",
      "437    White Noise Babies;White Noise for Babies   \n",
      "529                            ConeCrewDiretoria   \n",
      "743                                     Fluoride   \n",
      "964                                  Laura Osnes   \n",
      "973                    Sadhu Kochu Kunju Upadesi   \n",
      "...                                          ...   \n",
      "78741                                  Sam Smith   \n",
      "78908                          Akanksha Bhandari   \n",
      "78912    Yuvan Shankar Raja;Sriram Parthasarathy   \n",
      "79198       Giacomo Puccini;Arioso Quartett Wien   \n",
      "79463                               Porya Hatami   \n",
      "\n",
      "                                              album_name  \\\n",
      "437                                 Loopable White Noise   \n",
      "529                           Com os Neurônios Evoluidos   \n",
      "743                                      Disentanglement   \n",
      "964          Anything Goes (New Broadway Cast Recording)   \n",
      "973    Aswasageethangal, Vol. 1 (Christian Devotional...   \n",
      "...                                                  ...   \n",
      "78741                                           JULMUSIK   \n",
      "78908                                              Raahi   \n",
      "78912  Thangameenkal (Original Motion Picture Soundtr...   \n",
      "79198                                            Encores   \n",
      "79463                                               Kani   \n",
      "\n",
      "                                              track_name  duration_ms  \\\n",
      "437    Air Conditioner - Loopable With No Fade (feat....        77482   \n",
      "529                                    O Mundo Dá Voltas       279806   \n",
      "743                                           Still Time        63769   \n",
      "964                       Goodbye, Little Dream, Goodbye       143720   \n",
      "973                             Ente Daivam Mahathwathin       397613   \n",
      "...                                                  ...          ...   \n",
      "78741             Have Yourself A Merry Little Christmas       170964   \n",
      "78908                                        Amma Puchdi       264444   \n",
      "78912                                   Aanandha Yaazhai       217000   \n",
      "79198                                         Crisantemi       342893   \n",
      "79463                                           Restless       274524   \n",
      "\n",
      "       explicit  danceability    energy  key  ...  mode  speechiness  \\\n",
      "437       False         0.000  0.000638    1  ...     1       0.0000   \n",
      "529        True         0.403  0.706000   10  ...     0       0.3550   \n",
      "743       False         0.220  0.985000    8  ...     1       0.1090   \n",
      "964       False         0.236  0.145000    5  ...     1       0.0409   \n",
      "973       False         0.731  0.381000    0  ...     1       0.0276   \n",
      "...         ...           ...       ...  ...  ...   ...          ...   \n",
      "78741     False         0.438  0.178000    5  ...     1       0.0414   \n",
      "78908     False         0.531  0.399000   11  ...     1       0.0294   \n",
      "78912     False         0.768  0.335000   10  ...     1       0.0378   \n",
      "79198     False         0.150  0.106000    6  ...     0       0.0426   \n",
      "79463     False         0.145  0.277000    1  ...     0       0.0644   \n",
      "\n",
      "       acousticness  instrumentalness  liveness  valence    tempo  \\\n",
      "437        0.980000          0.833000    0.0983   0.0000    0.000   \n",
      "529        0.676000          0.000000    0.4600   0.2700   77.224   \n",
      "743        0.000001          0.822000    0.3530   0.0374   96.081   \n",
      "964        0.946000          0.005090    0.1550   0.0714   91.950   \n",
      "973        0.487000          0.000000    0.3060   0.6040  113.039   \n",
      "...             ...               ...       ...      ...      ...   \n",
      "78741      0.957000          0.000001    0.3160   0.3440   75.250   \n",
      "78908      0.704000          0.000000    0.1150   0.2100  107.506   \n",
      "78912      0.784000          0.000000    0.1050   0.6500  120.011   \n",
      "79198      0.842000          0.835000    0.1110   0.0553   83.844   \n",
      "79463      0.962000          0.960000    0.9490   0.1100   73.118   \n",
      "\n",
      "       time_signature  track_genre popularity_target  \n",
      "437                 0        sleep                 0  \n",
      "529                 1       brazil                 1  \n",
      "743                 1    grindcore                 0  \n",
      "964                 1   show-tunes                 0  \n",
      "973                 1        malay                 0  \n",
      "...               ...          ...               ...  \n",
      "78741               1          pop                 0  \n",
      "78908               1    indie-pop                 1  \n",
      "78912               1        k-pop                 1  \n",
      "79198               1    classical                 0  \n",
      "79463               1      iranian                 0  \n",
      "\n",
      "[812 rows x 21 columns]\n",
      "Quantidade de linhas filtradas: 812\n"
     ]
    }
   ],
   "source": [
    "linhas_filtradas = df_train[(df_train['time_signature'] < 3) ]\n",
    "print(linhas_filtradas)\n",
    "print(f\"Quantidade de linhas filtradas: {len(linhas_filtradas)}\")"
   ]
  },
  {
   "cell_type": "markdown",
   "metadata": {},
   "source": [
    "Já que a maioria das linhas possuem informações na coluna time_signature igual a 4, sendo esse número presente até cerca da faixa dos 75%, decidi substituir esses valores por 4, que representaria a moda dessa coluna e sendo a média também um valor bem perto."
   ]
  },
  {
   "cell_type": "code",
   "execution_count": 386,
   "metadata": {},
   "outputs": [],
   "source": [
    "df_train.loc[df_train['time_signature'] < 3, 'time_signature'] = 4"
   ]
  },
  {
   "cell_type": "markdown",
   "metadata": {},
   "source": [
    "Além disso busquei ver se tinha valores nas colunas 'track_unique_id', 'artists', 'album_name' e 'track_name', que eram repitidos e obtive o número 0, logo não tirei nenhuma coluna repitida. "
   ]
  },
  {
   "cell_type": "code",
   "execution_count": 387,
   "metadata": {},
   "outputs": [
    {
     "name": "stdout",
     "output_type": "stream",
     "text": [
      "Número total de duplicatas: 0\n"
     ]
    }
   ],
   "source": [
    "soma_duplicados = df_train[['track_unique_id', 'artists', 'album_name', 'track_name']].duplicated(keep='first').sum()\n",
    "df_train_sem_duplicatas = df_train.drop_duplicates(subset=['track_id', 'artists', 'album_name', 'track_name'], keep='first')\n",
    "print(f\"Número total de duplicatas: {soma_duplicados}\")\n"
   ]
  },
  {
   "cell_type": "markdown",
   "metadata": {},
   "source": [
    "Para descobrir possíveis outliers, escolhi algumas colunas e utilizei o bloxpot. Este tipo de gráfico que mostra basicamente em que linha dos valores está cada um dos meus dados, dessa forma, é possível visualizar alguns que fogem do padrão. Como é o caso dos dados de duração que me chamaram atenção pelos valores altos presentes, sendo assim os adequei e coloquei para que estes possuissem os mesmos valores de tempo que a média, considerei valores acima de 3. Outro ponto que me chamou a atenção foi o tempo, onde possui dois valores longe dos demais, fiz então a mesma coisa que fiz com a duração, com os valores menores que 100."
   ]
  },
  {
   "cell_type": "code",
   "execution_count": 388,
   "metadata": {},
   "outputs": [
    {
     "data": {
      "image/png": "[encoded data removed]",
      "text/plain": [
       "<Figure size 1000x1000 with 8 Axes>"
      ]
     },
     "metadata": {},
     "output_type": "display_data"
    }
   ],
   "source": [
    "columns_to_plot = ['duration_ms', 'danceability', 'energy', 'loudness', 'instrumentalness', 'acousticness', 'tempo']\n",
    "\n",
    "df_train[columns_to_plot].plot(kind='box', subplots=True, layout=(4, 2), figsize=(10, 10), patch_artist=True)\n",
    "\n",
    "plt.tight_layout()\n",
    "plt.show()\n"
   ]
  },
  {
   "cell_type": "code",
   "execution_count": 389,
   "metadata": {},
   "outputs": [],
   "source": [
    "mean_duration_ms = df_train['duration_ms'].mean()\n",
    "# Converta a média para inteiro\n",
    "df_train.loc[df_train['duration_ms'] > 300000, 'duration_ms'] = int(mean_duration_ms)\n",
    "\n",
    "mean_tempo = df_train['tempo'].mean()\n",
    "# Converta a média para inteiro\n",
    "df_train.loc[df_train['tempo'] < 100, 'tempo'] = int(mean_tempo)"
   ]
  },
  {
   "cell_type": "markdown",
   "metadata": {},
   "source": [
    "#### Codificação de Variáveis ​​Categóricas"
   ]
  },
  {
   "cell_type": "markdown",
   "metadata": {},
   "source": [
    "A codificação para variáveis categóricas é uma etapa fundamental no pré-processamento de dados, ainda mais quando o assunto é a construção de modelos preditivos. \n",
    "\n",
    "Variáveis categóricas são aquelas que contêm valores em categorias ou rótulos discretos, como \"Baixo\", \"Médio\", \"Alto\". Esses valores são qualitativos e, para que os modelos possam usá-los, eles precisam ser convertidos em representações numéricas.\n",
    "\n",
    "Mas para codificar, antes é preciso decidir quais colunas que possuem variáveis categóricas e que podemos tranformar em representações numéricas. Então decidi tranformar os dados das colunas: explicit e track_genre que são duas colunas da qual possuem dados que podem ser tranformados em representações númericas por possuirem um determinado número finito de possibilidades. Por exemplo, na coluna Explicit só pode ser sim ou não e na track_genre só podemos ter os gêneros que aparecem, vale ressaltar que há uma alta ocorrência de repetição destes também.\n",
    "\n",
    "Como ambas variaveis são nominais ou seja que não possuem ordem, optei por utilizar o método One-Hot Encoding."
   ]
  },
  {
   "cell_type": "code",
   "execution_count": 390,
   "metadata": {},
   "outputs": [
    {
     "name": "stdout",
     "output_type": "stream",
     "text": [
      "   track_unique_id                track_id            artists  \\\n",
      "0            41996  7hUhmkALyQ8SX9mJs5XI3D   Love and Rockets   \n",
      "1            76471  5x59U89ZnjZXuNAAlc8X1u   Filippa Giordano   \n",
      "2            54809  70Vng5jLzoJLmeLu3ayBQq      Susumu Yokota   \n",
      "3            16326  1cRfzLJapgtwJ61xszs37b  Franz Liszt;YUNDI   \n",
      "4           109799  47d5lYjbiMy0EdMRV8lRou            Scooter   \n",
      "\n",
      "             album_name                              track_name  duration_ms  \\\n",
      "0      Love and Rockets                              Motorcycle       211533   \n",
      "1      Filippa Giordano  Addio del passato - From \"La traviata\"       196000   \n",
      "2                Symbol                      Purple Rose Minuet       216506   \n",
      "3  Relajación y siestas            Liebeslied (Widmung), S. 566       218346   \n",
      "4       Scooter Forever                            The Darkside       173160   \n",
      "\n",
      "   explicit  danceability  energy  key  ...  track_genre_spanish  \\\n",
      "0     False         0.305  0.8490    9  ...                  0.0   \n",
      "1     False         0.287  0.1900    7  ...                  0.0   \n",
      "2     False         0.583  0.5090    1  ...                  0.0   \n",
      "3     False         0.163  0.0368    8  ...                  0.0   \n",
      "4     False         0.647  0.9210    2  ...                  0.0   \n",
      "\n",
      "   track_genre_study  track_genre_swedish  track_genre_synth-pop  \\\n",
      "0                0.0                  0.0                    0.0   \n",
      "1                0.0                  0.0                    0.0   \n",
      "2                0.0                  0.0                    0.0   \n",
      "3                0.0                  0.0                    0.0   \n",
      "4                0.0                  0.0                    0.0   \n",
      "\n",
      "   track_genre_tango  track_genre_techno  track_genre_trance  \\\n",
      "0                0.0                 0.0                 0.0   \n",
      "1                0.0                 0.0                 0.0   \n",
      "2                0.0                 0.0                 0.0   \n",
      "3                0.0                 0.0                 0.0   \n",
      "4                0.0                 1.0                 0.0   \n",
      "\n",
      "   track_genre_trip-hop  track_genre_turkish track_genre_world-music  \n",
      "0                   0.0                  0.0                     0.0  \n",
      "1                   0.0                  0.0                     0.0  \n",
      "2                   0.0                  0.0                     0.0  \n",
      "3                   0.0                  0.0                     0.0  \n",
      "4                   0.0                  0.0                     0.0  \n",
      "\n",
      "[5 rows x 137 columns]\n"
     ]
    }
   ],
   "source": [
    "\n",
    "\n",
    "# Criando instâncias do OneHotEncoder\n",
    "ohe_explicit = OneHotEncoder(sparse_output=False)  # Mudança aqui\n",
    "ohe_genre = OneHotEncoder(sparse_output=False)   \n",
    "# Codificando a coluna 'explicit'\n",
    "explicit_encoded = ohe_explicit.fit_transform(df_train[['explicit']])\n",
    "# Codificando a coluna 'track_genre'\n",
    "genre_encoded = ohe_genre.fit_transform(df_train[['track_genre']])\n",
    "\n",
    "# Criando DataFrames com os dados codificados\n",
    "explicit_df = pd.DataFrame(explicit_encoded, columns=ohe_explicit.get_feature_names_out(['explicit']))\n",
    "genre_df = pd.DataFrame(genre_encoded, columns=ohe_genre.get_feature_names_out(['track_genre']))\n",
    "\n",
    "# Concatenando os DataFrames codificados ao DataFrame original\n",
    "df_train = pd.concat([df_train, explicit_df, genre_df], axis=1)\n",
    "\n",
    "# Exibindo as primeiras linhas com as colunas codificadas\n",
    "print(df_train.head())\n"
   ]
  },
  {
   "cell_type": "markdown",
   "metadata": {},
   "source": [
    "TESTE TEM QUE DOC"
   ]
  },
  {
   "cell_type": "code",
   "execution_count": 391,
   "metadata": {},
   "outputs": [
    {
     "name": "stdout",
     "output_type": "stream",
     "text": [
      "   track_unique_id                track_id                     artists  \\\n",
      "0           113186  6KwkVtXm8OUp2XffN5k7lY            Hillsong Worship   \n",
      "1            42819  2dp5I5MJ8bQQHDoFaNRFtX                Internal Rot   \n",
      "2            59311  5avw06usmFkFrPjX8NxC40  Zhoobin Askarieh;Ali Sasha   \n",
      "3            91368  75hT0hvlESnDJstem0JgyR                 Bryan Adams   \n",
      "4            61000  4bY2oZGA5Br3pTE1Jd1IfY                  Nogizaka46   \n",
      "\n",
      "                        album_name             track_name  duration_ms  \\\n",
      "0                    No Other Name          No Other Name       440247   \n",
      "1                   Grieving Birth         Failed Organum        93933   \n",
      "2             Noise A Noise 20.4-1  Save the Trees, Pt. 1       213578   \n",
      "3  All I Want For Christmas Is You        Merry Christmas       151387   \n",
      "4                       バレッタ TypeD                  月の大きさ       236293   \n",
      "\n",
      "   explicit  danceability  energy  key  ...  track_genre_spanish  \\\n",
      "0     False         0.369   0.598    7  ...                  0.0   \n",
      "1     False         0.171   0.997    7  ...                  0.0   \n",
      "2     False         0.173   0.803    9  ...                  0.0   \n",
      "3     False         0.683   0.511    6  ...                  0.0   \n",
      "4     False         0.555   0.941    9  ...                  0.0   \n",
      "\n",
      "   track_genre_study  track_genre_swedish  track_genre_synth-pop  \\\n",
      "0                0.0                  0.0                    0.0   \n",
      "1                0.0                  0.0                    0.0   \n",
      "2                0.0                  0.0                    0.0   \n",
      "3                0.0                  0.0                    0.0   \n",
      "4                0.0                  0.0                    0.0   \n",
      "\n",
      "   track_genre_tango  track_genre_techno  track_genre_trance  \\\n",
      "0                0.0                 0.0                 0.0   \n",
      "1                0.0                 0.0                 0.0   \n",
      "2                0.0                 0.0                 0.0   \n",
      "3                0.0                 0.0                 0.0   \n",
      "4                0.0                 0.0                 0.0   \n",
      "\n",
      "   track_genre_trip-hop  track_genre_turkish track_genre_world-music  \n",
      "0                   0.0                  0.0                     1.0  \n",
      "1                   0.0                  0.0                     0.0  \n",
      "2                   0.0                  0.0                     0.0  \n",
      "3                   0.0                  0.0                     0.0  \n",
      "4                   0.0                  0.0                     0.0  \n",
      "\n",
      "[5 rows x 136 columns]\n"
     ]
    }
   ],
   "source": [
    "# Criando instâncias do OneHotEncoder\n",
    "ohe_explicit = OneHotEncoder(sparse_output=False)  # Mudança aqui\n",
    "ohe_genre = OneHotEncoder(sparse_output=False)   \n",
    "# Codificando a coluna 'explicit'\n",
    "explicit_encoded = ohe_explicit.fit_transform(df_test[['explicit']])\n",
    "# Codificando a coluna 'track_genre'\n",
    "genre_encoded = ohe_genre.fit_transform(df_test[['track_genre']])\n",
    "\n",
    "# Criando DataFrames com os dados codificados\n",
    "explicit_df = pd.DataFrame(explicit_encoded, columns=ohe_explicit.get_feature_names_out(['explicit']))\n",
    "genre_df = pd.DataFrame(genre_encoded, columns=ohe_genre.get_feature_names_out(['track_genre']))\n",
    "\n",
    "# Concatenando os DataFrames codificados ao DataFrame original\n",
    "df_test = pd.concat([df_test, explicit_df, genre_df], axis=1)\n",
    "\n",
    "# Exibindo as primeiras linhas com as colunas codificadas\n",
    "print(df_test.head())"
   ]
  },
  {
   "cell_type": "code",
   "execution_count": 392,
   "metadata": {},
   "outputs": [
    {
     "name": "stdout",
     "output_type": "stream",
     "text": [
      "       track_unique_id                track_id  \\\n",
      "0               113186  6KwkVtXm8OUp2XffN5k7lY   \n",
      "1                42819  2dp5I5MJ8bQQHDoFaNRFtX   \n",
      "2                59311  5avw06usmFkFrPjX8NxC40   \n",
      "3                91368  75hT0hvlESnDJstem0JgyR   \n",
      "4                61000  4bY2oZGA5Br3pTE1Jd1IfY   \n",
      "...                ...                     ...   \n",
      "34195            39480  3gD88GyMS2EVa1bSX834LH   \n",
      "34196            74692  6m3xyaUiqkNQCpuGFA5ABK   \n",
      "34197            53782  3qd1eI1GA0FwC3VHcxHhDC   \n",
      "34198            41890  02irDahUHwaZAhr2cdumxr   \n",
      "34199            97832  3RLoIn3LB72B3dNiKWjc9G   \n",
      "\n",
      "                              artists                        album_name  \\\n",
      "0                    Hillsong Worship                     No Other Name   \n",
      "1                        Internal Rot                    Grieving Birth   \n",
      "2          Zhoobin Askarieh;Ali Sasha              Noise A Noise 20.4-1   \n",
      "3                         Bryan Adams   All I Want For Christmas Is You   \n",
      "4                          Nogizaka46                        バレッタ TypeD   \n",
      "...                               ...                               ...   \n",
      "34195                   Mickie Krause        Ballermann Hits Party 2023   \n",
      "34196                       Fábio Jr.             Mega Hits - Fábio Jr.   \n",
      "34197  Imanbek;KDDK;KIDDO;Wiz Khalifa  Ordinary Life (KDDK Phonk Remix)   \n",
      "34198                   The Gathering                      If_then_else   \n",
      "34199                  Jorge & Mateus        10 Anos (Ao Vivo) - Deluxe   \n",
      "\n",
      "                                  track_name  duration_ms  explicit  \\\n",
      "0                              No Other Name       440247     False   \n",
      "1                             Failed Organum        93933     False   \n",
      "2                      Save the Trees, Pt. 1       213578     False   \n",
      "3                            Merry Christmas       151387     False   \n",
      "4                                      月の大きさ       236293     False   \n",
      "...                                      ...          ...       ...   \n",
      "34195  Jan Pillemann Otze - Goldversion 2022       216650     False   \n",
      "34196                   Esqueça (Forget Him)       219493     False   \n",
      "34197       Ordinary Life - KDDK Phonk Remix       165333      True   \n",
      "34198                      Colorado Incident       293040     False   \n",
      "34199                Onde Haja Sol - Ao Vivo       228207     False   \n",
      "\n",
      "       danceability  energy  key  ...  track_genre_spanish  track_genre_study  \\\n",
      "0             0.369   0.598    7  ...                  0.0                0.0   \n",
      "1             0.171   0.997    7  ...                  0.0                0.0   \n",
      "2             0.173   0.803    9  ...                  0.0                0.0   \n",
      "3             0.683   0.511    6  ...                  0.0                0.0   \n",
      "4             0.555   0.941    9  ...                  0.0                0.0   \n",
      "...             ...     ...  ...  ...                  ...                ...   \n",
      "34195         0.597   0.980    7  ...                  0.0                0.0   \n",
      "34196         0.454   0.367    0  ...                  0.0                0.0   \n",
      "34197         0.687   0.915    0  ...                  0.0                0.0   \n",
      "34198         0.362   0.668    0  ...                  0.0                0.0   \n",
      "34199         0.366   0.725    7  ...                  0.0                0.0   \n",
      "\n",
      "       track_genre_swedish  track_genre_synth-pop  track_genre_tango  \\\n",
      "0                      0.0                    0.0                0.0   \n",
      "1                      0.0                    0.0                0.0   \n",
      "2                      0.0                    0.0                0.0   \n",
      "3                      0.0                    0.0                0.0   \n",
      "4                      0.0                    0.0                0.0   \n",
      "...                    ...                    ...                ...   \n",
      "34195                  0.0                    0.0                0.0   \n",
      "34196                  0.0                    0.0                0.0   \n",
      "34197                  0.0                    0.0                0.0   \n",
      "34198                  0.0                    0.0                0.0   \n",
      "34199                  0.0                    0.0                0.0   \n",
      "\n",
      "       track_genre_techno  track_genre_trance  track_genre_trip-hop  \\\n",
      "0                     0.0                 0.0                   0.0   \n",
      "1                     0.0                 0.0                   0.0   \n",
      "2                     0.0                 0.0                   0.0   \n",
      "3                     0.0                 0.0                   0.0   \n",
      "4                     0.0                 0.0                   0.0   \n",
      "...                   ...                 ...                   ...   \n",
      "34195                 0.0                 0.0                   0.0   \n",
      "34196                 0.0                 0.0                   0.0   \n",
      "34197                 0.0                 0.0                   0.0   \n",
      "34198                 0.0                 0.0                   0.0   \n",
      "34199                 0.0                 0.0                   0.0   \n",
      "\n",
      "       track_genre_turkish track_genre_world-music  \n",
      "0                      0.0                     1.0  \n",
      "1                      0.0                     0.0  \n",
      "2                      0.0                     0.0  \n",
      "3                      0.0                     0.0  \n",
      "4                      0.0                     0.0  \n",
      "...                    ...                     ...  \n",
      "34195                  0.0                     0.0  \n",
      "34196                  0.0                     0.0  \n",
      "34197                  0.0                     0.0  \n",
      "34198                  0.0                     0.0  \n",
      "34199                  0.0                     0.0  \n",
      "\n",
      "[34200 rows x 136 columns]\n"
     ]
    }
   ],
   "source": [
    "print(df_test)"
   ]
  },
  {
   "cell_type": "markdown",
   "metadata": {},
   "source": [
    "Agora irei fazer as explorações dos dados para ver se conseigo algun isight e tendencia, para isso vou usar os generos musicais e visualizar quais são os que mais aparecem."
   ]
  },
  {
   "cell_type": "code",
   "execution_count": 393,
   "metadata": {},
   "outputs": [
    {
     "name": "stdout",
     "output_type": "stream",
     "text": [
      "                      Gênero  Incidência\n",
      "0       track_genre_acoustic       689.0\n",
      "1       track_genre_afrobeat       703.0\n",
      "2       track_genre_alt-rock       687.0\n",
      "3    track_genre_alternative       707.0\n",
      "4        track_genre_ambient       725.0\n",
      "..                       ...         ...\n",
      "109       track_genre_techno       698.0\n",
      "110       track_genre_trance       721.0\n",
      "111     track_genre_trip-hop       712.0\n",
      "112      track_genre_turkish       709.0\n",
      "113  track_genre_world-music       729.0\n",
      "\n",
      "[114 rows x 2 columns]\n"
     ]
    }
   ],
   "source": [
    "\n",
    "genre_columns = [col for col in df_train.columns if 'track_genre_' in col]\n",
    "\n",
    "genre_counts = df_train[genre_columns].sum()\n",
    "\n",
    "\n",
    "genre_df = pd.DataFrame(genre_counts).reset_index()\n",
    "genre_df.columns = ['Gênero', 'Incidência']\n",
    "\n",
    "print(genre_df)\n"
   ]
  },
  {
   "cell_type": "markdown",
   "metadata": {},
   "source": [
    "TESTE TEM QUE DOC"
   ]
  },
  {
   "cell_type": "code",
   "execution_count": 394,
   "metadata": {},
   "outputs": [
    {
     "name": "stdout",
     "output_type": "stream",
     "text": [
      "                      Gênero  Incidência\n",
      "0       track_genre_acoustic       311.0\n",
      "1       track_genre_afrobeat       297.0\n",
      "2       track_genre_alt-rock       313.0\n",
      "3    track_genre_alternative       293.0\n",
      "4        track_genre_ambient       275.0\n",
      "..                       ...         ...\n",
      "109       track_genre_techno       302.0\n",
      "110       track_genre_trance       279.0\n",
      "111     track_genre_trip-hop       288.0\n",
      "112      track_genre_turkish       291.0\n",
      "113  track_genre_world-music       271.0\n",
      "\n",
      "[114 rows x 2 columns]\n"
     ]
    }
   ],
   "source": [
    "genre_columns = [col for col in df_test.columns if 'track_genre_' in col]\n",
    "\n",
    "genre_counts = df_test[genre_columns].sum()\n",
    "\n",
    "\n",
    "genre_df = pd.DataFrame(genre_counts).reset_index()\n",
    "genre_df.columns = ['Gênero', 'Incidência']\n",
    "\n",
    "print(genre_df)"
   ]
  },
  {
   "cell_type": "markdown",
   "metadata": {},
   "source": [
    "Explorando esses dados vi que não há uma incidência muito grande de um gênero predominante, aparentemente a diferença é bem pouca, ou seja, a uma diversidade grande de gêneros músicais. Mas ainda nessa linha de raíocinio, pensei em relacionar os resultados da coluna popularidade_target, para assim conseguir visualizar se há algum genêro que possui probabilidade maior e encontrei esse dado."
   ]
  },
  {
   "cell_type": "code",
   "execution_count": 395,
   "metadata": {},
   "outputs": [
    {
     "name": "stdout",
     "output_type": "stream",
     "text": [
      "                       genre  total_songs  total_popular  probability_popular\n",
      "0       track_genre_acoustic        689.0            445             0.645864\n",
      "1       track_genre_afrobeat        703.0            101             0.143670\n",
      "2       track_genre_alt-rock        687.0            407             0.592431\n",
      "3    track_genre_alternative        707.0            252             0.356436\n",
      "4        track_genre_ambient        725.0            564             0.777931\n",
      "..                       ...          ...            ...                  ...\n",
      "109       track_genre_techno        698.0            448             0.641834\n",
      "110       track_genre_trance        721.0            444             0.615811\n",
      "111     track_genre_trip-hop        712.0            350             0.491573\n",
      "112      track_genre_turkish        709.0            688             0.970381\n",
      "113  track_genre_world-music        729.0            569             0.780521\n",
      "\n",
      "[114 rows x 4 columns]\n"
     ]
    }
   ],
   "source": [
    "# Obtendo as colunas que representam os gêneros\n",
    "genre_columns = [col for col in df_train.columns if col.startswith('track_genre_')]\n",
    "\n",
    "# Criando uma lista para armazenar as probabilidades de popularidade\n",
    "genre_popularity_list = []\n",
    "\n",
    "# Iterando pelas colunas dos gêneros\n",
    "for genre_column in genre_columns:\n",
    "    total_songs = df_train[genre_column].sum()  # Total de músicas do gênero\n",
    "    total_popular = df_train[df_train[genre_column] == 1]['popularity_target'].sum()  # Total de músicas populares\n",
    "    \n",
    "    # Calculando a probabilidade de popularidade, já que total_songs é sempre maior ou igual a zero\n",
    "    prob_popular = total_popular / total_songs if total_songs > 0 else 0\n",
    "    \n",
    "    # Adicionando os dados à lista\n",
    "    genre_popularity_list.append({\n",
    "        'genre': genre_column, \n",
    "        'total_songs': total_songs, \n",
    "        'total_popular': total_popular, \n",
    "        'probability_popular': prob_popular\n",
    "    })\n",
    "\n",
    "# Criando um DataFrame com as probabilidades\n",
    "genre_popularity = pd.DataFrame(genre_popularity_list)\n",
    "\n",
    "# Exibindo as probabilidades\n",
    "print(genre_popularity)\n"
   ]
  },
  {
   "cell_type": "markdown",
   "metadata": {},
   "source": [
    "TESTE TEM QUE DOCUMENTAR"
   ]
  },
  {
   "cell_type": "code",
   "execution_count": 396,
   "metadata": {},
   "outputs": [
    {
     "name": "stdout",
     "output_type": "stream",
     "text": [
      "   track_unique_id                track_id                     artists  \\\n",
      "0           113186  6KwkVtXm8OUp2XffN5k7lY            Hillsong Worship   \n",
      "1            42819  2dp5I5MJ8bQQHDoFaNRFtX                Internal Rot   \n",
      "2            59311  5avw06usmFkFrPjX8NxC40  Zhoobin Askarieh;Ali Sasha   \n",
      "3            91368  75hT0hvlESnDJstem0JgyR                 Bryan Adams   \n",
      "4            61000  4bY2oZGA5Br3pTE1Jd1IfY                  Nogizaka46   \n",
      "\n",
      "                        album_name             track_name  duration_ms  \\\n",
      "0                    No Other Name          No Other Name       440247   \n",
      "1                   Grieving Birth         Failed Organum        93933   \n",
      "2             Noise A Noise 20.4-1  Save the Trees, Pt. 1       213578   \n",
      "3  All I Want For Christmas Is You        Merry Christmas       151387   \n",
      "4                       バレッタ TypeD                  月の大きさ       236293   \n",
      "\n",
      "   explicit  danceability  energy  key  ...  track_genre_study  \\\n",
      "0     False         0.369   0.598    7  ...                0.0   \n",
      "1     False         0.171   0.997    7  ...                0.0   \n",
      "2     False         0.173   0.803    9  ...                0.0   \n",
      "3     False         0.683   0.511    6  ...                0.0   \n",
      "4     False         0.555   0.941    9  ...                0.0   \n",
      "\n",
      "   track_genre_swedish  track_genre_synth-pop  track_genre_tango  \\\n",
      "0                  0.0                    0.0                0.0   \n",
      "1                  0.0                    0.0                0.0   \n",
      "2                  0.0                    0.0                0.0   \n",
      "3                  0.0                    0.0                0.0   \n",
      "4                  0.0                    0.0                0.0   \n",
      "\n",
      "   track_genre_techno  track_genre_trance  track_genre_trip-hop  \\\n",
      "0                 0.0                 0.0                   0.0   \n",
      "1                 0.0                 0.0                   0.0   \n",
      "2                 0.0                 0.0                   0.0   \n",
      "3                 0.0                 0.0                   0.0   \n",
      "4                 0.0                 0.0                   0.0   \n",
      "\n",
      "   track_genre_turkish  track_genre_world-music popularity_target  \n",
      "0                  0.0                      1.0                 0  \n",
      "1                  0.0                      0.0                 0  \n",
      "2                  0.0                      0.0                 0  \n",
      "3                  0.0                      0.0                 1  \n",
      "4                  0.0                      0.0                 1  \n",
      "\n",
      "[5 rows x 137 columns]\n",
      "Coluna 'popularity_target' adicionada: 34200 linhas com valor.\n"
     ]
    }
   ],
   "source": [
    "import pandas as pd\n",
    "\n",
    "# Verificando se 'track_unique_id' está presente em ambos os DataFrames\n",
    "if 'track_unique_id' in df_submission.columns and 'track_unique_id' in df_test.columns:\n",
    "    \n",
    "    # Realizando o merge e adicionando a coluna 'popularity_target' ao df_test\n",
    "    df_test = df_test.merge(df_submission[['track_unique_id', 'popularity_target']], \n",
    "                            on='track_unique_id', \n",
    "                            how='left')\n",
    "    \n",
    "    # Exibir as primeiras linhas do df_test com a nova coluna\n",
    "    print(df_test.head())\n",
    "    \n",
    "    # Verificando se a coluna foi adicionada corretamente\n",
    "    if 'popularity_target' in df_test.columns:\n",
    "        print(f\"Coluna 'popularity_target' adicionada: {df_test['popularity_target'].notna().sum()} linhas com valor.\")\n",
    "    else:\n",
    "        print(\"A coluna 'popularity_target' não foi adicionada ao df_test.\")\n",
    "else:\n",
    "    print(\"A coluna 'track_unique_id' não está presente em um dos DataFrames.\")\n"
   ]
  },
  {
   "cell_type": "code",
   "execution_count": 397,
   "metadata": {},
   "outputs": [
    {
     "data": {
      "text/plain": [
       "Index(['track_unique_id', 'track_id', 'artists', 'album_name', 'track_name',\n",
       "       'duration_ms', 'explicit', 'danceability', 'energy', 'key',\n",
       "       ...\n",
       "       'track_genre_study', 'track_genre_swedish', 'track_genre_synth-pop',\n",
       "       'track_genre_tango', 'track_genre_techno', 'track_genre_trance',\n",
       "       'track_genre_trip-hop', 'track_genre_turkish',\n",
       "       'track_genre_world-music', 'popularity_target'],\n",
       "      dtype='object', length=137)"
      ]
     },
     "execution_count": 397,
     "metadata": {},
     "output_type": "execute_result"
    }
   ],
   "source": [
    "df_test.columns"
   ]
  },
  {
   "cell_type": "code",
   "execution_count": 398,
   "metadata": {},
   "outputs": [
    {
     "name": "stdout",
     "output_type": "stream",
     "text": [
      "                       genre  total_songs  total_popular  probability_popular\n",
      "0       track_genre_acoustic        311.0            151             0.485531\n",
      "1       track_genre_afrobeat        297.0            141             0.474747\n",
      "2       track_genre_alt-rock        313.0            138             0.440895\n",
      "3    track_genre_alternative        293.0            153             0.522184\n",
      "4        track_genre_ambient        275.0            146             0.530909\n",
      "..                       ...          ...            ...                  ...\n",
      "109       track_genre_techno        302.0            152             0.503311\n",
      "110       track_genre_trance        279.0            150             0.537634\n",
      "111     track_genre_trip-hop        288.0            148             0.513889\n",
      "112      track_genre_turkish        291.0            156             0.536082\n",
      "113  track_genre_world-music        271.0            141             0.520295\n",
      "\n",
      "[114 rows x 4 columns]\n"
     ]
    }
   ],
   "source": [
    "# Obtendo as colunas que representam os gêneros\n",
    "genre_columns = [col for col in df_test.columns if col.startswith('track_genre_')]\n",
    "\n",
    "# Criando uma lista para armazenar as probabilidades de popularidade\n",
    "genre_popularity_list = []\n",
    "\n",
    "# Iterando pelas colunas dos gêneros\n",
    "for genre_column in genre_columns:\n",
    "    total_songs = df_test[genre_column].sum()  # Total de músicas do gênero\n",
    "    total_popular = df_test[df_test[genre_column] == 1]['popularity_target'].sum()  # Total de músicas populares\n",
    "    \n",
    "    # Calculando a probabilidade de popularidade, já que total_songs é sempre maior ou igual a zero\n",
    "    prob_popular = total_popular / total_songs if total_songs > 0 else 0\n",
    "    \n",
    "    # Adicionando os dados à lista\n",
    "    genre_popularity_list.append({\n",
    "        'genre': genre_column, \n",
    "        'total_songs': total_songs, \n",
    "        'total_popular': total_popular, \n",
    "        'probability_popular': prob_popular\n",
    "    })\n",
    "\n",
    "# Criando um DataFrame com as probabilidades\n",
    "genre_popularity = pd.DataFrame(genre_popularity_list)\n",
    "\n",
    "# Exibindo as probabilidades\n",
    "print(genre_popularity)"
   ]
  },
  {
   "cell_type": "markdown",
   "metadata": {},
   "source": [
    "A partir do print acima, consegui ver que realmente há gêneros que possuem uma maior probabilidade de terem sucesso.\n",
    "Após isso, criei uma nova coluna que mostra a probabilidade de popularidade com base no em seu genero musical."
   ]
  },
  {
   "cell_type": "code",
   "execution_count": 399,
   "metadata": {},
   "outputs": [
    {
     "name": "stdout",
     "output_type": "stream",
     "text": [
      "   track_unique_id                track_id            artists  \\\n",
      "0            41996  7hUhmkALyQ8SX9mJs5XI3D   Love and Rockets   \n",
      "1            76471  5x59U89ZnjZXuNAAlc8X1u   Filippa Giordano   \n",
      "2            54809  70Vng5jLzoJLmeLu3ayBQq      Susumu Yokota   \n",
      "3            16326  1cRfzLJapgtwJ61xszs37b  Franz Liszt;YUNDI   \n",
      "4           109799  47d5lYjbiMy0EdMRV8lRou            Scooter   \n",
      "\n",
      "             album_name                              track_name  duration_ms  \\\n",
      "0      Love and Rockets                              Motorcycle       211533   \n",
      "1      Filippa Giordano  Addio del passato - From \"La traviata\"       196000   \n",
      "2                Symbol                      Purple Rose Minuet       216506   \n",
      "3  Relajación y siestas            Liebeslied (Widmung), S. 566       218346   \n",
      "4       Scooter Forever                            The Darkside       173160   \n",
      "\n",
      "   explicit  danceability  energy  key  ...  track_genre_study  \\\n",
      "0     False         0.305  0.8490    9  ...                0.0   \n",
      "1     False         0.287  0.1900    7  ...                0.0   \n",
      "2     False         0.583  0.5090    1  ...                0.0   \n",
      "3     False         0.163  0.0368    8  ...                0.0   \n",
      "4     False         0.647  0.9210    2  ...                0.0   \n",
      "\n",
      "   track_genre_swedish  track_genre_synth-pop  track_genre_tango  \\\n",
      "0                  0.0                    0.0                0.0   \n",
      "1                  0.0                    0.0                0.0   \n",
      "2                  0.0                    0.0                0.0   \n",
      "3                  0.0                    0.0                0.0   \n",
      "4                  0.0                    0.0                0.0   \n",
      "\n",
      "   track_genre_techno  track_genre_trance  track_genre_trip-hop  \\\n",
      "0                 0.0                 0.0                   0.0   \n",
      "1                 0.0                 0.0                   0.0   \n",
      "2                 0.0                 0.0                   0.0   \n",
      "3                 0.0                 0.0                   0.0   \n",
      "4                 1.0                 0.0                   0.0   \n",
      "\n",
      "   track_genre_turkish  track_genre_world-music probabilidade_popularidade  \n",
      "0                  0.0                      0.0                   0.536585  \n",
      "1                  0.0                      0.0                   0.472414  \n",
      "2                  0.0                      0.0                   0.546784  \n",
      "3                  0.0                      0.0                   0.526490  \n",
      "4                  0.0                      0.0                   0.503311  \n",
      "\n",
      "[5 rows x 138 columns]\n"
     ]
    }
   ],
   "source": [
    "# Criando uma nova coluna de probabilidade para cada linha\n",
    "probabilidade_popularidade = []\n",
    "\n",
    "# Iterando sobre as linhas do DataFrame\n",
    "for index, row in df_train.iterrows():\n",
    "    # Identificando o gênero presente (One-Hot Coded)\n",
    "    for genre_column in genre_columns:\n",
    "        if row[genre_column] == 1:\n",
    "            # Pegando a probabilidade de popularidade do gênero\n",
    "            prob_pop = genre_popularity.loc[genre_popularity['genre'] == genre_column, 'probability_popular'].values[0]\n",
    "            probabilidade_popularidade.append(prob_pop)\n",
    "            break\n",
    "\n",
    "# Adicionando a coluna de probabilidade ao df_train\n",
    "df_train['probabilidade_popularidade'] = probabilidade_popularidade\n",
    "\n",
    "# Exibindo as primeiras linhas do DataFrame atualizado\n",
    "print(df_train.head())\n"
   ]
  },
  {
   "cell_type": "code",
   "execution_count": 400,
   "metadata": {},
   "outputs": [
    {
     "name": "stdout",
     "output_type": "stream",
     "text": [
      "   track_unique_id                track_id                     artists  \\\n",
      "0           113186  6KwkVtXm8OUp2XffN5k7lY            Hillsong Worship   \n",
      "1            42819  2dp5I5MJ8bQQHDoFaNRFtX                Internal Rot   \n",
      "2            59311  5avw06usmFkFrPjX8NxC40  Zhoobin Askarieh;Ali Sasha   \n",
      "3            91368  75hT0hvlESnDJstem0JgyR                 Bryan Adams   \n",
      "4            61000  4bY2oZGA5Br3pTE1Jd1IfY                  Nogizaka46   \n",
      "\n",
      "                        album_name             track_name  duration_ms  \\\n",
      "0                    No Other Name          No Other Name       440247   \n",
      "1                   Grieving Birth         Failed Organum        93933   \n",
      "2             Noise A Noise 20.4-1  Save the Trees, Pt. 1       213578   \n",
      "3  All I Want For Christmas Is You        Merry Christmas       151387   \n",
      "4                       バレッタ TypeD                  月の大きさ       236293   \n",
      "\n",
      "   explicit  danceability  energy  key  ...  track_genre_swedish  \\\n",
      "0     False         0.369   0.598    7  ...                  0.0   \n",
      "1     False         0.171   0.997    7  ...                  0.0   \n",
      "2     False         0.173   0.803    9  ...                  0.0   \n",
      "3     False         0.683   0.511    6  ...                  0.0   \n",
      "4     False         0.555   0.941    9  ...                  0.0   \n",
      "\n",
      "   track_genre_synth-pop  track_genre_tango  track_genre_techno  \\\n",
      "0                    0.0                0.0                 0.0   \n",
      "1                    0.0                0.0                 0.0   \n",
      "2                    0.0                0.0                 0.0   \n",
      "3                    0.0                0.0                 0.0   \n",
      "4                    0.0                0.0                 0.0   \n",
      "\n",
      "   track_genre_trance  track_genre_trip-hop  track_genre_turkish  \\\n",
      "0                 0.0                   0.0                  0.0   \n",
      "1                 0.0                   0.0                  0.0   \n",
      "2                 0.0                   0.0                  0.0   \n",
      "3                 0.0                   0.0                  0.0   \n",
      "4                 0.0                   0.0                  0.0   \n",
      "\n",
      "   track_genre_world-music  popularity_target probabilidade_popularidade  \n",
      "0                      1.0                  0                   0.520295  \n",
      "1                      0.0                  0                   0.482036  \n",
      "2                      0.0                  0                   0.512367  \n",
      "3                      0.0                  1                   0.480519  \n",
      "4                      0.0                  1                   0.500000  \n",
      "\n",
      "[5 rows x 138 columns]\n"
     ]
    }
   ],
   "source": [
    "# Criando uma nova coluna de probabilidade para cada linha\n",
    "probabilidade_popularidade = []\n",
    "\n",
    "# Iterando sobre as linhas do DataFrame\n",
    "for index, row in df_test.iterrows():\n",
    "    # Identificando o gênero presente (One-Hot Coded)\n",
    "    for genre_column in genre_columns:\n",
    "        if row[genre_column] == 1:\n",
    "            # Pegando a probabilidade de popularidade do gênero\n",
    "            prob_pop = genre_popularity.loc[genre_popularity['genre'] == genre_column, 'probability_popular'].values[0]\n",
    "            probabilidade_popularidade.append(prob_pop)\n",
    "            break\n",
    "\n",
    "# Adicionando a coluna de probabilidade ao df_test\n",
    "df_test['probabilidade_popularidade'] = probabilidade_popularidade\n",
    "\n",
    "# Exibindo as primeiras linhas do DataFrame atualizado\n",
    "print(df_test.head())"
   ]
  },
  {
   "cell_type": "markdown",
   "metadata": {},
   "source": [
    "#### Análise exploratória \n",
    "\n",
    "Pensando em ver as 10 maiores probabilidades com base no gênero fiz o seguinte gráfico:"
   ]
  },
  {
   "cell_type": "code",
   "execution_count": 401,
   "metadata": {},
   "outputs": [
    {
     "data": {
      "image/png": "[encoded data removed]",
      "text/plain": [
       "<Figure size 1200x600 with 1 Axes>"
      ]
     },
     "metadata": {},
     "output_type": "display_data"
    }
   ],
   "source": [
    "top_genres = genre_popularity.nlargest(10, 'probability_popular')\n",
    "\n",
    "\n",
    "plt.figure(figsize=(12, 6))\n",
    "sns.barplot(data=top_genres, x='probability_popular', y='genre', hue='genre', palette='viridis', legend=False)\n",
    "plt.title('Top 10 Gêneros com Maior Probabilidade de Sucesso')\n",
    "plt.xlabel('Probabilidade de Popularidade')\n",
    "plt.ylabel('Gênero')\n",
    "plt.grid(axis='x')\n",
    "plt.show()\n"
   ]
  },
  {
   "cell_type": "markdown",
   "metadata": {},
   "source": [
    "Nesse foi possível visualizar que o genero musical forró é o que tem maior probabilidade de obter sucesso, sendo assim, caso uma música obtenha esse gênero, ela tem uma maior chance de obter popularidade. Sendo essa minha primeira hipótese, ou seja, de que o gênero pode impactar na popularidade."
   ]
  },
  {
   "cell_type": "code",
   "execution_count": 402,
   "metadata": {},
   "outputs": [
    {
     "name": "stderr",
     "output_type": "stream",
     "text": [
      "C:\\Users\\Inteli\\AppData\\Local\\Temp\\ipykernel_23108\\142290942.py:9: FutureWarning: \n",
      "\n",
      "Passing `palette` without assigning `hue` is deprecated and will be removed in v0.14.0. Assign the `y` variable to `hue` and set `legend=False` for the same effect.\n",
      "\n",
      "  sns.barplot(data=top_10_artists, x='Número_de_Músicas_Populares', y='artists', palette='viridis')\n"
     ]
    },
    {
     "data": {
      "image/png": "[encoded data removed]",
      "text/plain": [
       "<Figure size 1200x600 with 1 Axes>"
      ]
     },
     "metadata": {},
     "output_type": "display_data"
    }
   ],
   "source": [
    "# Passo 1: Contar o número de músicas populares por artista\n",
    "artist_popularity_counts = df_train[df_train['popularity_target'] == 1].groupby('artists').size().reset_index(name='Número_de_Músicas_Populares')\n",
    "\n",
    "# Passo 2: Selecionar os 10 artistas com mais músicas populares\n",
    "top_10_artists = artist_popularity_counts.nlargest(10, 'Número_de_Músicas_Populares')\n",
    "\n",
    "# Passo 3: Criar o gráfico\n",
    "plt.figure(figsize=(12, 6))\n",
    "sns.barplot(data=top_10_artists, x='Número_de_Músicas_Populares', y='artists', palette='viridis')\n",
    "plt.title('Top 10 Artistas com Mais Músicas Populares')\n",
    "plt.xlabel('Número de Músicas Populares')\n",
    "plt.ylabel('Artista')\n",
    "plt.grid(axis='x')\n",
    "plt.show()"
   ]
  },
  {
   "cell_type": "markdown",
   "metadata": {},
   "source": [
    "Nesse gráfico podemos ver algo expressivo de como alguns artistas possuem uma chance de criar uma música popular maior, isso pode ser evidenciado pelo sucesso do artista. Criando assim também outra hipótese de que os artistas mais famosos e mais populares mundialmente, possuem uma chance maior de suas músicas serem populares."
   ]
  },
  {
   "cell_type": "markdown",
   "metadata": {},
   "source": [
    "Agora irei relacionar a popularidade com o album da qual a música esta relacionada, para ver se há um número significativo e no caso do album também impactar na chance de popularidade da música."
   ]
  },
  {
   "cell_type": "code",
   "execution_count": 403,
   "metadata": {},
   "outputs": [
    {
     "name": "stderr",
     "output_type": "stream",
     "text": [
      "C:\\Users\\Inteli\\AppData\\Local\\Temp\\ipykernel_23108\\3567452841.py:12: FutureWarning: \n",
      "\n",
      "Passing `palette` without assigning `hue` is deprecated and will be removed in v0.14.0. Assign the `y` variable to `hue` and set `legend=False` for the same effect.\n",
      "\n",
      "  sns.barplot(data=top_10_albums, x='Número_de_Músicas_Populares', y='album_name', palette='viridis')\n"
     ]
    },
    {
     "data": {
      "image/png": "[encoded data removed]",
      "text/plain": [
       "<Figure size 1200x600 with 1 Axes>"
      ]
     },
     "metadata": {},
     "output_type": "display_data"
    }
   ],
   "source": [
    "import matplotlib.pyplot as plt\n",
    "import seaborn as sns\n",
    "\n",
    "# Passo 1: Contar o número de músicas populares por álbum\n",
    "album_popularity_counts = df_train[df_train['popularity_target'] == 1].groupby('album_name').size().reset_index(name='Número_de_Músicas_Populares')\n",
    "\n",
    "# Passo 2: Selecionar os 10 álbuns com mais músicas populares\n",
    "top_10_albums = album_popularity_counts.nlargest(10, 'Número_de_Músicas_Populares')\n",
    "\n",
    "# Passo 3: Criar o gráfico\n",
    "plt.figure(figsize=(12, 6))\n",
    "sns.barplot(data=top_10_albums, x='Número_de_Músicas_Populares', y='album_name', palette='viridis')\n",
    "plt.title('Top 10 Álbuns com Mais Músicas Populares')\n",
    "plt.xlabel('Número de Músicas Populares')\n",
    "plt.ylabel('Álbum')\n",
    "plt.grid(axis='x')\n",
    "plt.show()\n"
   ]
  },
  {
   "cell_type": "markdown",
   "metadata": {},
   "source": [
    "Neste código foi possível ver que realmente há albuns dos quais possuem um maior número de músicas populares, logo se caisse uma música do album OzuTochi por exemplo, ela provavelmente seria popular, pois há varias músicas neste que é popular."
   ]
  },
  {
   "cell_type": "markdown",
   "metadata": {},
   "source": [
    "#### Seleção de features\n",
    "\n",
    "Para as features eu vou utilizar a probabilidade com base no gênero, uma vez que esta coluna em nossa hipótese mostrou um potêncial por ser influenciada pelo estilo, no qual por exemplo, se uma música é forró, ela consegue quase sempre ter sucesso. Além disso apliquei o método target encoding para utilizar as colunas de artistas e album de forma indireta, relacionando esses dados com a coluna que mostra a popularidade da música, sendo assim fiz uma média para preencher os dados decada linha destas colunas. Mas nem só desses fotores seria possível treinar meu modelo, deve ter também padrões musicais, que de alguma forma influenciam as pesssoas a gostarem dessas músicas, sendo assim escolhi também como features as colunas instrumentalness, danceability e valence."
   ]
  },
  {
   "cell_type": "markdown",
   "metadata": {},
   "source": [
    "Aplicando o método encoding, que faz parte também do processo das variáveis categóricas."
   ]
  },
  {
   "cell_type": "code",
   "execution_count": 404,
   "metadata": {},
   "outputs": [],
   "source": [
    "\n",
    "mean_target_by_artist = df_train.groupby('artists')['popularity_target'].mean()\n",
    "df_train['artists_encoded'] = df_train['artists'].map(mean_target_by_artist)\n",
    "\n",
    "\n",
    "\n"
   ]
  },
  {
   "cell_type": "code",
   "execution_count": 405,
   "metadata": {},
   "outputs": [],
   "source": [
    "mean_target_by_artist = df_test.groupby('artists')['popularity_target'].mean()\n",
    "df_test['artists_encoded'] = df_test['artists'].map(mean_target_by_artist)"
   ]
  },
  {
   "cell_type": "code",
   "execution_count": 406,
   "metadata": {},
   "outputs": [],
   "source": [
    "mean_target_by_album = df_train.groupby('album_name')['popularity_target'].mean()\n",
    "df_train['album_encoded'] = df_train['album_name'].map(mean_target_by_album)\n"
   ]
  },
  {
   "cell_type": "code",
   "execution_count": 407,
   "metadata": {},
   "outputs": [],
   "source": [
    "mean_target_by_album = df_test.groupby('album_name')['popularity_target'].mean()\n",
    "df_test['album_encoded'] = df_test['album_name'].map(mean_target_by_album)"
   ]
  },
  {
   "cell_type": "code",
   "execution_count": 408,
   "metadata": {},
   "outputs": [
    {
     "data": {
      "text/html": [
       "<div>\n",
       "<style scoped>\n",
       "    .dataframe tbody tr th:only-of-type {\n",
       "        vertical-align: middle;\n",
       "    }\n",
       "\n",
       "    .dataframe tbody tr th {\n",
       "        vertical-align: top;\n",
       "    }\n",
       "\n",
       "    .dataframe thead th {\n",
       "        text-align: right;\n",
       "    }\n",
       "</style>\n",
       "<table border=\"1\" class=\"dataframe\">\n",
       "  <thead>\n",
       "    <tr style=\"text-align: right;\">\n",
       "      <th></th>\n",
       "      <th>track_unique_id</th>\n",
       "      <th>track_id</th>\n",
       "      <th>artists</th>\n",
       "      <th>album_name</th>\n",
       "      <th>track_name</th>\n",
       "      <th>duration_ms</th>\n",
       "      <th>explicit</th>\n",
       "      <th>danceability</th>\n",
       "      <th>energy</th>\n",
       "      <th>key</th>\n",
       "      <th>...</th>\n",
       "      <th>track_genre_synth-pop</th>\n",
       "      <th>track_genre_tango</th>\n",
       "      <th>track_genre_techno</th>\n",
       "      <th>track_genre_trance</th>\n",
       "      <th>track_genre_trip-hop</th>\n",
       "      <th>track_genre_turkish</th>\n",
       "      <th>track_genre_world-music</th>\n",
       "      <th>probabilidade_popularidade</th>\n",
       "      <th>artists_encoded</th>\n",
       "      <th>album_encoded</th>\n",
       "    </tr>\n",
       "  </thead>\n",
       "  <tbody>\n",
       "    <tr>\n",
       "      <th>0</th>\n",
       "      <td>41996</td>\n",
       "      <td>7hUhmkALyQ8SX9mJs5XI3D</td>\n",
       "      <td>Love and Rockets</td>\n",
       "      <td>Love and Rockets</td>\n",
       "      <td>Motorcycle</td>\n",
       "      <td>211533</td>\n",
       "      <td>False</td>\n",
       "      <td>0.305</td>\n",
       "      <td>0.8490</td>\n",
       "      <td>9</td>\n",
       "      <td>...</td>\n",
       "      <td>0.0</td>\n",
       "      <td>0.0</td>\n",
       "      <td>0.0</td>\n",
       "      <td>0.0</td>\n",
       "      <td>0.0</td>\n",
       "      <td>0.0</td>\n",
       "      <td>0.0</td>\n",
       "      <td>0.536585</td>\n",
       "      <td>0.000000</td>\n",
       "      <td>0.000000</td>\n",
       "    </tr>\n",
       "    <tr>\n",
       "      <th>1</th>\n",
       "      <td>76471</td>\n",
       "      <td>5x59U89ZnjZXuNAAlc8X1u</td>\n",
       "      <td>Filippa Giordano</td>\n",
       "      <td>Filippa Giordano</td>\n",
       "      <td>Addio del passato - From \"La traviata\"</td>\n",
       "      <td>196000</td>\n",
       "      <td>False</td>\n",
       "      <td>0.287</td>\n",
       "      <td>0.1900</td>\n",
       "      <td>7</td>\n",
       "      <td>...</td>\n",
       "      <td>0.0</td>\n",
       "      <td>0.0</td>\n",
       "      <td>0.0</td>\n",
       "      <td>0.0</td>\n",
       "      <td>0.0</td>\n",
       "      <td>0.0</td>\n",
       "      <td>0.0</td>\n",
       "      <td>0.472414</td>\n",
       "      <td>0.000000</td>\n",
       "      <td>0.000000</td>\n",
       "    </tr>\n",
       "    <tr>\n",
       "      <th>2</th>\n",
       "      <td>54809</td>\n",
       "      <td>70Vng5jLzoJLmeLu3ayBQq</td>\n",
       "      <td>Susumu Yokota</td>\n",
       "      <td>Symbol</td>\n",
       "      <td>Purple Rose Minuet</td>\n",
       "      <td>216506</td>\n",
       "      <td>False</td>\n",
       "      <td>0.583</td>\n",
       "      <td>0.5090</td>\n",
       "      <td>1</td>\n",
       "      <td>...</td>\n",
       "      <td>0.0</td>\n",
       "      <td>0.0</td>\n",
       "      <td>0.0</td>\n",
       "      <td>0.0</td>\n",
       "      <td>0.0</td>\n",
       "      <td>0.0</td>\n",
       "      <td>0.0</td>\n",
       "      <td>0.546784</td>\n",
       "      <td>0.294118</td>\n",
       "      <td>1.000000</td>\n",
       "    </tr>\n",
       "    <tr>\n",
       "      <th>3</th>\n",
       "      <td>16326</td>\n",
       "      <td>1cRfzLJapgtwJ61xszs37b</td>\n",
       "      <td>Franz Liszt;YUNDI</td>\n",
       "      <td>Relajación y siestas</td>\n",
       "      <td>Liebeslied (Widmung), S. 566</td>\n",
       "      <td>218346</td>\n",
       "      <td>False</td>\n",
       "      <td>0.163</td>\n",
       "      <td>0.0368</td>\n",
       "      <td>8</td>\n",
       "      <td>...</td>\n",
       "      <td>0.0</td>\n",
       "      <td>0.0</td>\n",
       "      <td>0.0</td>\n",
       "      <td>0.0</td>\n",
       "      <td>0.0</td>\n",
       "      <td>0.0</td>\n",
       "      <td>0.0</td>\n",
       "      <td>0.526490</td>\n",
       "      <td>0.000000</td>\n",
       "      <td>0.000000</td>\n",
       "    </tr>\n",
       "    <tr>\n",
       "      <th>4</th>\n",
       "      <td>109799</td>\n",
       "      <td>47d5lYjbiMy0EdMRV8lRou</td>\n",
       "      <td>Scooter</td>\n",
       "      <td>Scooter Forever</td>\n",
       "      <td>The Darkside</td>\n",
       "      <td>173160</td>\n",
       "      <td>False</td>\n",
       "      <td>0.647</td>\n",
       "      <td>0.9210</td>\n",
       "      <td>2</td>\n",
       "      <td>...</td>\n",
       "      <td>0.0</td>\n",
       "      <td>0.0</td>\n",
       "      <td>1.0</td>\n",
       "      <td>0.0</td>\n",
       "      <td>0.0</td>\n",
       "      <td>0.0</td>\n",
       "      <td>0.0</td>\n",
       "      <td>0.503311</td>\n",
       "      <td>0.059829</td>\n",
       "      <td>0.166667</td>\n",
       "    </tr>\n",
       "  </tbody>\n",
       "</table>\n",
       "<p>5 rows × 140 columns</p>\n",
       "</div>"
      ],
      "text/plain": [
       "   track_unique_id                track_id            artists  \\\n",
       "0            41996  7hUhmkALyQ8SX9mJs5XI3D   Love and Rockets   \n",
       "1            76471  5x59U89ZnjZXuNAAlc8X1u   Filippa Giordano   \n",
       "2            54809  70Vng5jLzoJLmeLu3ayBQq      Susumu Yokota   \n",
       "3            16326  1cRfzLJapgtwJ61xszs37b  Franz Liszt;YUNDI   \n",
       "4           109799  47d5lYjbiMy0EdMRV8lRou            Scooter   \n",
       "\n",
       "             album_name                              track_name  duration_ms  \\\n",
       "0      Love and Rockets                              Motorcycle       211533   \n",
       "1      Filippa Giordano  Addio del passato - From \"La traviata\"       196000   \n",
       "2                Symbol                      Purple Rose Minuet       216506   \n",
       "3  Relajación y siestas            Liebeslied (Widmung), S. 566       218346   \n",
       "4       Scooter Forever                            The Darkside       173160   \n",
       "\n",
       "   explicit  danceability  energy  key  ...  track_genre_synth-pop  \\\n",
       "0     False         0.305  0.8490    9  ...                    0.0   \n",
       "1     False         0.287  0.1900    7  ...                    0.0   \n",
       "2     False         0.583  0.5090    1  ...                    0.0   \n",
       "3     False         0.163  0.0368    8  ...                    0.0   \n",
       "4     False         0.647  0.9210    2  ...                    0.0   \n",
       "\n",
       "   track_genre_tango  track_genre_techno  track_genre_trance  \\\n",
       "0                0.0                 0.0                 0.0   \n",
       "1                0.0                 0.0                 0.0   \n",
       "2                0.0                 0.0                 0.0   \n",
       "3                0.0                 0.0                 0.0   \n",
       "4                0.0                 1.0                 0.0   \n",
       "\n",
       "   track_genre_trip-hop  track_genre_turkish  track_genre_world-music  \\\n",
       "0                   0.0                  0.0                      0.0   \n",
       "1                   0.0                  0.0                      0.0   \n",
       "2                   0.0                  0.0                      0.0   \n",
       "3                   0.0                  0.0                      0.0   \n",
       "4                   0.0                  0.0                      0.0   \n",
       "\n",
       "   probabilidade_popularidade  artists_encoded album_encoded  \n",
       "0                    0.536585         0.000000      0.000000  \n",
       "1                    0.472414         0.000000      0.000000  \n",
       "2                    0.546784         0.294118      1.000000  \n",
       "3                    0.526490         0.000000      0.000000  \n",
       "4                    0.503311         0.059829      0.166667  \n",
       "\n",
       "[5 rows x 140 columns]"
      ]
     },
     "execution_count": 408,
     "metadata": {},
     "output_type": "execute_result"
    }
   ],
   "source": [
    "df_train.head()"
   ]
  },
  {
   "cell_type": "code",
   "execution_count": 413,
   "metadata": {},
   "outputs": [
    {
     "name": "stdout",
     "output_type": "stream",
     "text": [
      "Acurácia do modelo: 0.98\n",
      "Relatório de Classificação:\n",
      "              precision    recall  f1-score   support\n",
      "\n",
      "           0       0.98      0.98      0.98     12280\n",
      "           1       0.98      0.98      0.98     11660\n",
      "\n",
      "    accuracy                           0.98     23940\n",
      "   macro avg       0.98      0.98      0.98     23940\n",
      "weighted avg       0.98      0.98      0.98     23940\n",
      "\n"
     ]
    }
   ],
   "source": [
    "import pandas as pd\n",
    "from sklearn.model_selection import train_test_split\n",
    "from sklearn.ensemble import RandomForestClassifier\n",
    "from sklearn.metrics import accuracy_score, classification_report\n",
    "\n",
    "# Definição das features e do target\n",
    "features = ['album_encoded', 'artists_encoded', 'instrumentalness', 'danceability', 'valence', 'probabilidade_popularidade']\n",
    "X = df_train[features]\n",
    "y = df_train['popularity_target']\n",
    "X_test = df_test[features]\n",
    "\n",
    "# Passo 2: Dividir os dados em conjuntos de treino e teste (70% treino, 30% teste)\n",
    "X_train, X_valid, y_train, y_valid = train_test_split(X, y, test_size=0.3, random_state=42)\n",
    "\n",
    "# Passo 3: Criar o modelo de Random Forest\n",
    "model = RandomForestClassifier(random_state=42)\n",
    "\n",
    "# Passo 4: Treinar o modelo\n",
    "model.fit(X_train, y_train)\n",
    "\n",
    "# Passo 5: Fazer previsões no conjunto de teste\n",
    "y_pred = model.predict(X_valid)\n",
    "\n",
    "# Passo 6: Avaliar o modelo\n",
    "accuracy = accuracy_score(y_valid, y_pred)\n",
    "report = classification_report(y_valid, y_pred)\n",
    "\n",
    "print(f\"Acurácia do modelo: {accuracy:.2f}\")\n",
    "print(\"Relatório de Classificação:\")\n",
    "print(report)\n",
    "\n",
    "# Treinando novamente com todos os dados para fazer previsões no df_test\n",
    "model.fit(X, y)\n",
    "test_preds = model.predict(X_test)\n",
    "\n",
    "# Criar DataFrame de submissão\n",
    "submission = pd.DataFrame({\n",
    "    'track_unique_id': df_test['track_unique_id'],\n",
    "    'popularity_target': test_preds.astype(int)\n",
    "})\n",
    "\n",
    "submission.to_csv('submissao.csv', index=False)\n"
   ]
  },
  {
   "cell_type": "code",
   "execution_count": 410,
   "metadata": {},
   "outputs": [
    {
     "name": "stdout",
     "output_type": "stream",
     "text": [
      "Tamanho de test_preds: 23940\n",
      "Tamanho de df_test: 34200\n"
     ]
    }
   ],
   "source": [
    "# Verificando os tamanhos\n",
    "print(f\"Tamanho de test_preds: {len(test_preds)}\")\n",
    "print(f\"Tamanho de df_test: {len(df_test)}\")"
   ]
  },
  {
   "cell_type": "code",
   "execution_count": 412,
   "metadata": {},
   "outputs": [
    {
     "name": "stdout",
     "output_type": "stream",
     "text": [
      "Número de linhas na coluna 'track_unique_id' de df_test: 34200\n"
     ]
    }
   ],
   "source": [
    "num_linhas = len(df_test['popularity_target'])\n",
    "print(f\"Número de linhas na coluna 'track_unique_id' de df_test: {num_linhas}\")\n"
   ]
  }
 ],
 "metadata": {
  "kernelspec": {
   "display_name": "Python 3",
   "language": "python",
   "name": "python3"
  },
  "language_info": {
   "codemirror_mode": {
    "name": "ipython",
    "version": 3
   },
   "file_extension": ".py",
   "mimetype": "text/x-python",
   "name": "python",
   "nbconvert_exporter": "python",
   "pygments_lexer": "ipython3",
   "version": "3.12.4"
  }
 },
 "nbformat": 4,
 "nbformat_minor": 2
}
